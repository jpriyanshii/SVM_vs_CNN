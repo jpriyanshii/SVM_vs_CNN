{
  "nbformat": 4,
  "nbformat_minor": 0,
  "metadata": {
    "colab": {
      "provenance": [],
      "authorship_tag": "ABX9TyP7jPbLrH/byrlqDj8M/F4i",
      "include_colab_link": true
    },
    "kernelspec": {
      "name": "python3",
      "display_name": "Python 3"
    },
    "language_info": {
      "name": "python"
    }
  },
  "cells": [
    {
      "cell_type": "markdown",
      "metadata": {
        "id": "view-in-github",
        "colab_type": "text"
      },
      "source": [
        "<a href=\"https://colab.research.google.com/github/jpriyanshii/SVM_vs_CNN/blob/main/SVM_vs_CNN.ipynb\" target=\"_parent\"><img src=\"https://colab.research.google.com/assets/colab-badge.svg\" alt=\"Open In Colab\"/></a>"
      ]
    },
    {
      "cell_type": "code",
      "execution_count": 38,
      "metadata": {
        "id": "52jLFfpplYdI"
      },
      "outputs": [],
      "source": [
        "import numpy as np\n",
        "import pandas as pd\n",
        "import matplotlib.pyplot as plt\n",
        "from tensorflow.keras.models import Sequential\n",
        "from tensorflow.keras.layers import Dense, Conv2D, MaxPooling2D, Flatten, Dropout\n",
        "from tensorflow.keras.datasets import mnist\n",
        "from sklearn.model_selection import train_test_split\n",
        "from sklearn.svm import SVC\n",
        "from sklearn.metrics import accuracy_score"
      ]
    },
    {
      "cell_type": "code",
      "source": [
        "(x_train, y_train), (x_test, y_test)= mnist.load_data()\n",
        "x_train, x_test= x_train/255.0, x_test/255.0   #normalising gray-scale images between 0-1"
      ],
      "metadata": {
        "id": "FAWC7eoGlwXi"
      },
      "execution_count": 39,
      "outputs": []
    },
    {
      "cell_type": "code",
      "source": [
        "#Machine Learning Approach using SVM\n",
        "x_train_flat= x_train.reshape(-1, 28*28)     #2d image data to 1d feature matrix(width,height).-1 helps numpy to take sample size from data dynamically.\n",
        "x_test_flat= x_test.reshape(-1, 28*28)       #svm expects 3d svm input (sample size, 28, 28) -> (sample size, 784)"
      ],
      "metadata": {
        "id": "TkgkqWgPo5SY"
      },
      "execution_count": 40,
      "outputs": []
    },
    {
      "cell_type": "code",
      "source": [
        "print(\"Training SVM Model...\")\n",
        "svm_model = SVC(kernel='rbf', gamma='scale')\n",
        "svm_model.fit(x_train_flat, y_train)\n",
        "print(\"SVM Model Trained! \")"
      ],
      "metadata": {
        "colab": {
          "base_uri": "https://localhost:8080/"
        },
        "id": "QFvg38FhpMaa",
        "outputId": "f487d6af-e1a4-4622-dafd-9ba1184fbf92"
      },
      "execution_count": 41,
      "outputs": [
        {
          "output_type": "stream",
          "name": "stdout",
          "text": [
            "Training SVM Model...\n",
            "SVM Model Trained! \n"
          ]
        }
      ]
    },
    {
      "cell_type": "code",
      "source": [
        "y_pred_svm= svm_model.predict(x_test_flat)\n",
        "accuracy_svm = accuracy_score(y_test, y_pred_svm) * 100\n",
        "print(f\"SVM Accuracy: {accuracy_svm:.2f}%\")"
      ],
      "metadata": {
        "colab": {
          "base_uri": "https://localhost:8080/"
        },
        "id": "b1agtmNquL26",
        "outputId": "925b57f6-62b9-4982-91ce-45dc1eba9522"
      },
      "execution_count": 42,
      "outputs": [
        {
          "output_type": "stream",
          "name": "stdout",
          "text": [
            "SVM Accuracy: 97.92%\n"
          ]
        }
      ]
    },
    {
      "cell_type": "code",
      "source": [
        "#Deep Learning Approach using CNN\n",
        "x_train_cnn= x_train.reshape(-1,28,28,1)  #2d data to 3d data(width,height,o/p channels)\n",
        "x_test_cnn= x_test.reshape(-1,28,28,1)    #tensorflow expects 4d tensor input"
      ],
      "metadata": {
        "id": "QR2a-HyGvFdQ"
      },
      "execution_count": 43,
      "outputs": []
    },
    {
      "cell_type": "code",
      "source": [
        "print(\"Training CNN Model...\")\n",
        "cnn_model= Sequential([\n",
        "    Conv2D(32,(3,3), activation='relu', input_shape=(28,28,1)),\n",
        "    MaxPooling2D((2,2)),\n",
        "    Dropout(0.2),\n",
        "    Conv2D(64,(3,3), activation='relu'),\n",
        "    MaxPooling2D((2,2)),\n",
        "    Dropout(0.2),\n",
        "    Flatten(),\n",
        "    Dense(128, activation='relu'),\n",
        "    Dropout(0.3),\n",
        "    Dense(10, activation='softmax')  # we have 0-9 digits in ouput so 10 neurons\n",
        "])\n",
        "cnn_model.compile(optimizer='adam', loss='sparse_categorical_crossentropy', metrics=['accuracy'])\n",
        "cnn_model.fit(x_train_cnn, y_train, epochs=5, batch_size=32, validation_data=(x_test_cnn, y_test))\n",
        "print('CNN Model Trained!')"
      ],
      "metadata": {
        "colab": {
          "base_uri": "https://localhost:8080/"
        },
        "id": "5iBPOKxnyJiy",
        "outputId": "070f88c9-89c7-4c60-a176-296f9b6b5b1d"
      },
      "execution_count": 44,
      "outputs": [
        {
          "output_type": "stream",
          "name": "stdout",
          "text": [
            "Training CNN Model...\n"
          ]
        },
        {
          "output_type": "stream",
          "name": "stderr",
          "text": [
            "/usr/local/lib/python3.11/dist-packages/keras/src/layers/convolutional/base_conv.py:107: UserWarning: Do not pass an `input_shape`/`input_dim` argument to a layer. When using Sequential models, prefer using an `Input(shape)` object as the first layer in the model instead.\n",
            "  super().__init__(activity_regularizer=activity_regularizer, **kwargs)\n"
          ]
        },
        {
          "output_type": "stream",
          "name": "stdout",
          "text": [
            "Epoch 1/5\n",
            "\u001b[1m1875/1875\u001b[0m \u001b[32m━━━━━━━━━━━━━━━━━━━━\u001b[0m\u001b[37m\u001b[0m \u001b[1m63s\u001b[0m 33ms/step - accuracy: 0.8688 - loss: 0.4112 - val_accuracy: 0.9862 - val_loss: 0.0434\n",
            "Epoch 2/5\n",
            "\u001b[1m1875/1875\u001b[0m \u001b[32m━━━━━━━━━━━━━━━━━━━━\u001b[0m\u001b[37m\u001b[0m \u001b[1m79s\u001b[0m 31ms/step - accuracy: 0.9788 - loss: 0.0685 - val_accuracy: 0.9900 - val_loss: 0.0330\n",
            "Epoch 3/5\n",
            "\u001b[1m1875/1875\u001b[0m \u001b[32m━━━━━━━━━━━━━━━━━━━━\u001b[0m\u001b[37m\u001b[0m \u001b[1m82s\u001b[0m 32ms/step - accuracy: 0.9856 - loss: 0.0469 - val_accuracy: 0.9907 - val_loss: 0.0279\n",
            "Epoch 4/5\n",
            "\u001b[1m1875/1875\u001b[0m \u001b[32m━━━━━━━━━━━━━━━━━━━━\u001b[0m\u001b[37m\u001b[0m \u001b[1m81s\u001b[0m 31ms/step - accuracy: 0.9857 - loss: 0.0443 - val_accuracy: 0.9916 - val_loss: 0.0256\n",
            "Epoch 5/5\n",
            "\u001b[1m1875/1875\u001b[0m \u001b[32m━━━━━━━━━━━━━━━━━━━━\u001b[0m\u001b[37m\u001b[0m \u001b[1m83s\u001b[0m 31ms/step - accuracy: 0.9887 - loss: 0.0347 - val_accuracy: 0.9920 - val_loss: 0.0230\n",
            "CNN Model Trained!\n"
          ]
        }
      ]
    },
    {
      "cell_type": "code",
      "source": [
        "test_loss, accuracy_cnn = cnn_model.evaluate(x_test_cnn, y_test)\n",
        "accuracy_cnn *= 100\n",
        "print(f\"Accuracy of CNN Model: {accuracy_cnn:.2f}%\")\n"
      ],
      "metadata": {
        "colab": {
          "base_uri": "https://localhost:8080/"
        },
        "id": "5ml14CKM5nLq",
        "outputId": "5148102e-b4d7-4b55-8fd4-974be0575b84"
      },
      "execution_count": 47,
      "outputs": [
        {
          "output_type": "stream",
          "name": "stdout",
          "text": [
            "\u001b[1m313/313\u001b[0m \u001b[32m━━━━━━━━━━━━━━━━━━━━\u001b[0m\u001b[37m\u001b[0m \u001b[1m3s\u001b[0m 8ms/step - accuracy: 0.9898 - loss: 0.0285\n",
            "Accuracy of CNN Model: 99.20%\n"
          ]
        }
      ]
    },
    {
      "cell_type": "code",
      "source": [
        "#visualizing the comparison\n",
        "models=['SVM', 'CNN']\n",
        "accuracies= [accuracy_svm, accuracy_cnn]\n",
        "\n",
        "plt.figure(figsize=(3,1))\n",
        "plt.bar(models, accuracies, color=['blue','red'])\n",
        "plt.xlabel('Models')\n",
        "plt.ylabel('Accuracies(%)')\n",
        "plt.title('Comparison of SVM and CNN models')\n",
        "plt.ylim(90,100)\n",
        "plt.show()\n"
      ],
      "metadata": {
        "colab": {
          "base_uri": "https://localhost:8080/",
          "height": 179
        },
        "id": "ORBHbUdS7_zC",
        "outputId": "cc2f19b3-bafd-48a6-d2b8-4309690694d1"
      },
      "execution_count": 54,
      "outputs": [
        {
          "output_type": "display_data",
          "data": {
            "text/plain": [
              "<Figure size 300x100 with 1 Axes>"
            ],
            "image/png": "[encoded data removed]"
          },
          "metadata": {}
        }
      ]
    }
  ]
}